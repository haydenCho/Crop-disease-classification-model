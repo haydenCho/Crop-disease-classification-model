{
 "cells": [
  {
   "cell_type": "code",
   "execution_count": 1,
   "metadata": {},
   "outputs": [],
   "source": [
    "import os\n",
    "import random\n",
    "import shutil"
   ]
  },
  {
   "cell_type": "markdown",
   "metadata": {},
   "source": [
    "### 학습 데이터셋에서 테스트 데이터셋 추출\n",
    "- Training 데이터에서 split_ratio(%)만큼 랜덤으로 추출해 Test 데이터로 이동.\n",
    "- 인자\n",
    "    - training_dir (str): Training 데이터 경로 (./class_data/Training/{질병번호} 구조)\n",
    "    - test_dir (str): Test 데이터 경로 (./class_data/Test/{질병번호} 구조)\n",
    "    - split_ratio (float): 이동할 데이터 비율 (default: 0.1, 즉 10%)"
   ]
  },
  {
   "cell_type": "code",
   "execution_count": null,
   "metadata": {},
   "outputs": [],
   "source": [
    "def split_data(training_dir, test_dir, split_ratio=0.1):\n",
    "    # Training 디렉토리 탐색\n",
    "    if not os.path.exists(training_dir):\n",
    "        print(f\"Training directory '{training_dir}' not found!\")\n",
    "        return\n",
    "\n",
    "    # Test 디렉토리 생성\n",
    "    os.makedirs(test_dir, exist_ok=True)\n",
    "\n",
    "    # 질병번호 폴더 순회\n",
    "    for disease_folder in os.listdir(training_dir):\n",
    "        disease_path = os.path.join(training_dir, disease_folder)\n",
    "\n",
    "        if not os.path.isdir(disease_path):\n",
    "            continue  # 폴더가 아닌 경우 건너뜀\n",
    "\n",
    "        # 이미지 파일 리스트\n",
    "        image_files = [f for f in os.listdir(disease_path) if f.lower().endswith(('.jpg', '.png', '.jpeg'))]\n",
    "\n",
    "        # 총 파일 개수 및 이동할 파일 개수 계산\n",
    "        total_files = len(image_files)\n",
    "        num_to_move = max(1, int(total_files * split_ratio))  # 최소 1개는 이동\n",
    "\n",
    "        print(f\"Processing '{disease_folder}' - Total: {total_files}, To Move: {num_to_move}\")\n",
    "\n",
    "        # 랜덤으로 파일 선택\n",
    "        files_to_move = random.sample(image_files, num_to_move)\n",
    "\n",
    "        # Test 디렉토리 내 질병번호 폴더 생성\n",
    "        test_disease_path = os.path.join(test_dir, disease_folder)\n",
    "        os.makedirs(test_disease_path, exist_ok=True)\n",
    "\n",
    "        # 파일 이동\n",
    "        for file_name in files_to_move:\n",
    "            src_path = os.path.join(disease_path, file_name)\n",
    "            dest_path = os.path.join(test_disease_path, file_name)\n",
    "            shutil.move(src_path, dest_path)\n",
    "\n",
    "        print(f\"Moved {len(files_to_move)} files from '{disease_folder}' to Test directory.\")\n",
    "\n",
    "    print(\"Data splitting completed.\")"
   ]
  },
  {
   "cell_type": "code",
   "execution_count": 3,
   "metadata": {},
   "outputs": [
    {
     "name": "stdout",
     "output_type": "stream",
     "text": [
      "Processing '0' - Total: 1500, To Move: 150\n",
      "Moved 150 files from '0' to Test directory.\n",
      "Processing '1' - Total: 973, To Move: 97\n",
      "Moved 97 files from '1' to Test directory.\n",
      "Processing '11' - Total: 391, To Move: 39\n",
      "Moved 39 files from '11' to Test directory.\n",
      "Processing '12' - Total: 389, To Move: 38\n",
      "Moved 38 files from '12' to Test directory.\n",
      "Processing '16' - Total: 964, To Move: 96\n",
      "Moved 96 files from '16' to Test directory.\n",
      "Processing '17' - Total: 259, To Move: 25\n",
      "Moved 25 files from '17' to Test directory.\n",
      "Processing '18' - Total: 894, To Move: 89\n",
      "Moved 89 files from '18' to Test directory.\n",
      "Processing '2' - Total: 915, To Move: 91\n",
      "Moved 91 files from '2' to Test directory.\n",
      "Processing '3' - Total: 470, To Move: 47\n",
      "Moved 47 files from '3' to Test directory.\n",
      "Processing '4' - Total: 227, To Move: 22\n",
      "Moved 22 files from '4' to Test directory.\n",
      "Processing '5' - Total: 802, To Move: 80\n",
      "Moved 80 files from '5' to Test directory.\n",
      "Processing '6' - Total: 458, To Move: 45\n",
      "Moved 45 files from '6' to Test directory.\n",
      "Data splitting completed.\n"
     ]
    }
   ],
   "source": [
    "# 실행\n",
    "training_dir = \"./class_dataset/Training\"  # Training 데이터 디렉토리\n",
    "test_dir = \"./class_dataset/Test\"          # Test 데이터 디렉토리\n",
    "split_ratio = 0.1                       # 10% 랜덤 추출\n",
    "\n",
    "split_data(training_dir, test_dir, split_ratio)"
   ]
  }
 ],
 "metadata": {
  "kernelspec": {
   "display_name": "deep_platform",
   "language": "python",
   "name": "python3"
  },
  "language_info": {
   "codemirror_mode": {
    "name": "ipython",
    "version": 3
   },
   "file_extension": ".py",
   "mimetype": "text/x-python",
   "name": "python",
   "nbconvert_exporter": "python",
   "pygments_lexer": "ipython3",
   "version": "3.9.20"
  }
 },
 "nbformat": 4,
 "nbformat_minor": 2
}
