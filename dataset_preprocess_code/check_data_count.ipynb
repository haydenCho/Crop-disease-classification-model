{
 "cells": [
  {
   "cell_type": "code",
   "execution_count": 6,
   "metadata": {},
   "outputs": [],
   "source": [
    "\n",
    "import os\n",
    "import json\n",
    "from collections import defaultdict"
   ]
  },
  {
   "cell_type": "code",
   "execution_count": 7,
   "metadata": {},
   "outputs": [],
   "source": [
    "# 기본 디렉토리 경로 설정\n",
    "base_dir = \"./dataset/Training\"\n",
    "crop_names = [\"고추\", \"무\", \"배추\", \"오이\", \"파\"]  # 작물 종류"
   ]
  },
  {
   "cell_type": "code",
   "execution_count": 8,
   "metadata": {},
   "outputs": [],
   "source": [
    "# 결과를 저장할 딕셔너리\n",
    "disease_counts = defaultdict(lambda: defaultdict(int))"
   ]
  },
  {
   "cell_type": "code",
   "execution_count": 9,
   "metadata": {},
   "outputs": [],
   "source": [
    "for crop in crop_names:\n",
    "    # 라벨 디렉토리만 처리\n",
    "    label_dirs = [d for d in os.listdir(base_dir) if d.startswith(f\"[라벨]{crop}\")]\n",
    "\n",
    "    for label_dir in label_dirs:\n",
    "        full_label_dir = os.path.join(base_dir, label_dir)\n",
    "        \n",
    "        if not os.path.isdir(full_label_dir):\n",
    "            continue\n",
    "        \n",
    "        # 라벨 파일 리스트 가져오기\n",
    "        label_files = [f for f in os.listdir(full_label_dir) if f.endswith(\".json\")]\n",
    "\n",
    "        for label_file in label_files:\n",
    "            label_path = os.path.join(full_label_dir, label_file)\n",
    "\n",
    "            try:\n",
    "                # 라벨 파일 읽기\n",
    "                with open(label_path, \"r\", encoding=\"utf-8\") as f:\n",
    "                    data = json.load(f)\n",
    "\n",
    "                # disease 값 가져오기\n",
    "                disease_value = data.get(\"annotations\", {}).get(\"disease\", \"Unknown\")\n",
    "\n",
    "                # 질병 개수 집계\n",
    "                disease_counts[crop][disease_value] += 1\n",
    "\n",
    "            except Exception as e:\n",
    "                print(f\"Error processing file {label_path}: {e}\")"
   ]
  },
  {
   "cell_type": "code",
   "execution_count": 10,
   "metadata": {},
   "outputs": [
    {
     "name": "stdout",
     "output_type": "stream",
     "text": [
      "=== 고추 ===\n",
      "  0: 7422\n",
      "  1: 973\n",
      "  2: 915\n",
      "=== 무 ===\n",
      "  0: 6936\n",
      "  3: 470\n",
      "  4: 227\n",
      "=== 배추 ===\n",
      "  0: 9318\n",
      "  5: 802\n",
      "  6: 458\n",
      "=== 오이 ===\n",
      "  0: 11455\n",
      "  11: 392\n",
      "  12: 389\n",
      "=== 파 ===\n",
      "  0: 10504\n",
      "  16: 964\n",
      "  17: 259\n",
      "  18: 894\n"
     ]
    }
   ],
   "source": [
    "# 결과 출력\n",
    "for crop, diseases in disease_counts.items():\n",
    "    print(f\"=== {crop} ===\")\n",
    "    for disease, count in diseases.items():\n",
    "        print(f\"  {disease}: {count}\")"
   ]
  },
  {
   "cell_type": "code",
   "execution_count": null,
   "metadata": {},
   "outputs": [],
   "source": []
  }
 ],
 "metadata": {
  "kernelspec": {
   "display_name": "deepLearning2024_2",
   "language": "python",
   "name": "python3"
  },
  "language_info": {
   "codemirror_mode": {
    "name": "ipython",
    "version": 3
   },
   "file_extension": ".py",
   "mimetype": "text/x-python",
   "name": "python",
   "nbconvert_exporter": "python",
   "pygments_lexer": "ipython3",
   "version": "3.9.20"
  }
 },
 "nbformat": 4,
 "nbformat_minor": 2
}
