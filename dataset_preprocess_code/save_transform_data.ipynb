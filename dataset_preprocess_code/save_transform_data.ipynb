{
 "cells": [
  {
   "cell_type": "code",
   "execution_count": 5,
   "metadata": {},
   "outputs": [],
   "source": [
    "import os\n",
    "import random\n",
    "from PIL import Image\n",
    "import torchvision.transforms as transforms"
   ]
  },
  {
   "cell_type": "markdown",
   "metadata": {},
   "source": [
    "## 데이터 증강 처리\n",
    "- 각 클래스 폴더에서 이미지 개수를 확인하고, 부족한 개수를 증강 처리하여 저장\n",
    "- 정규화 및 토큰화는 학습 시 진행\n",
    "\n",
    "### 전처리 과정\n",
    "1. **데이터 전처리**\n",
    "    - `torchvision.transforms` 모듈을 활용하여 학습 및 테스트 데이터를 각각 전처리\n",
    "    - **학습 데이터(`train_transform`)**: 데이터 증강을 포함한 다양한 변환 적용 및 정규화\n",
    "        - **Resize**: 이미지를 `(224, 224)`로 크기 조정\n",
    "        - **RandomResizedCrop**: 이미지를 무작위로 크롭하고 크기를 `(224, 224)`로 조정\n",
    "        - **RandomHorizontalFlip**: 수평(좌우) 방향으로 랜덤 반전(p=0.5)\n",
    "        - **RandomVerticalFlip**: 수직(상하) 방향으로 랜덤 반전(p=0.5)\n",
    "        - **RandomRotation**: 이미지 각도를 미리 지정한 각도 범위에서 랜덤으로 회전"
   ]
  },
  {
   "cell_type": "code",
   "execution_count": null,
   "metadata": {},
   "outputs": [],
   "source": [
    "def augment_and_save_images(class_folder, target_count, augment_count=1000):\n",
    "    image_files = [f for f in os.listdir(class_folder) if f.lower().endswith(('.jpg', '.png', '.jpeg'))]\n",
    "    current_count = len(image_files)\n",
    "\n",
    "    if current_count >= target_count:\n",
    "        print(f\"'{class_folder}' already has {current_count} images, no augmentation needed.\")\n",
    "        return\n",
    "\n",
    "    print(f\"'{class_folder}' has {current_count} images, need to generate {target_count - current_count} more.\")\n",
    "\n",
    "    # Rotation (at finer angles) 정의\n",
    "    rotation_angles = [-76.15, -48.46, -20.77, -6.92, 6.92, 20.77, 48.46, 76.15]\n",
    "\n",
    "    # transforms 정의\n",
    "    augment_transforms = [\n",
    "        transforms.Resize((224, 224)),\n",
    "        transforms.RandomResizedCrop(224, scale=(0.8, 1.2)),  # Scaling\n",
    "        transforms.RandomAffine(degrees=0, translate=(0.2, 0.2)),  # Translation\n",
    "        transforms.RandomHorizontalFlip(p=0.5),  # 좌우 대칭\n",
    "        transforms.RandomVerticalFlip(p=0.5),  # 상하 대칭\n",
    "    ]\n",
    "    rotate_transform = lambda angle: transforms.RandomRotation((angle, angle))\n",
    "\n",
    "    new_images = 0\n",
    "    while new_images < (target_count - current_count):\n",
    "        # 증강을 통해 새로운 이미지 생성\n",
    "        for image_file in random.sample(image_files, min(augment_count, len(image_files))):\n",
    "            img_path = os.path.join(class_folder, image_file)\n",
    "            img = Image.open(img_path)\n",
    "\n",
    "            augmented_imgs = []\n",
    "\n",
    "            # Scaling, Translation, Flipping 등 기본 증강 적용\n",
    "            for transform in augment_transforms:\n",
    "                augmented_imgs.append(transform(img))\n",
    "\n",
    "            # Rotation (at finer angles)\n",
    "            for angle in rotation_angles:\n",
    "                augmented_imgs.append(rotate_transform(angle)(img))\n",
    "\n",
    "            # 저장할 새로운 파일 이름 설정 및 저장\n",
    "            for augmented_img in augmented_imgs:\n",
    "                new_image_filename = f\"{os.path.splitext(image_file)[0]}_aug_{new_images+1}.jpg\"\n",
    "                augmented_img.save(os.path.join(class_folder, new_image_filename))\n",
    "                new_images += 1\n",
    "\n",
    "                if new_images >= (target_count - current_count):\n",
    "                    break\n",
    "\n",
    "            if new_images >= (target_count - current_count):\n",
    "                break\n",
    "\n",
    "    print(f\"Total {new_images} augmented images generated for class '{class_folder}'.\")"
   ]
  },
  {
   "cell_type": "code",
   "execution_count": 7,
   "metadata": {},
   "outputs": [],
   "source": [
    "def process_all_classes(base_dir, target_count):\n",
    "    \"\"\"\n",
    "    모든 클래스 폴더를 순회하며 각 클래스별로 증강 작업 수행\n",
    "    \"\"\"\n",
    "    for disease_folder in os.listdir(base_dir):\n",
    "        class_folder = os.path.join(base_dir, disease_folder)\n",
    "        if os.path.isdir(class_folder):\n",
    "            augment_and_save_images(class_folder, target_count)"
   ]
  },
  {
   "cell_type": "code",
   "execution_count": 9,
   "metadata": {},
   "outputs": [
    {
     "name": "stdout",
     "output_type": "stream",
     "text": [
      "'../mtl_transform_dataset/Training\\0' already has 1350 images, no augmentation needed.\n",
      "'../mtl_transform_dataset/Training\\1' already has 876 images, no augmentation needed.\n",
      "'../mtl_transform_dataset/Training\\11' has 352 images, need to generate 148 more.\n",
      "Total 148 augmented images generated for class '../mtl_transform_dataset/Training\\11'.\n",
      "'../mtl_transform_dataset/Training\\12' has 351 images, need to generate 149 more.\n",
      "Total 149 augmented images generated for class '../mtl_transform_dataset/Training\\12'.\n",
      "'../mtl_transform_dataset/Training\\16' already has 868 images, no augmentation needed.\n",
      "'../mtl_transform_dataset/Training\\17' has 234 images, need to generate 266 more.\n",
      "Total 266 augmented images generated for class '../mtl_transform_dataset/Training\\17'.\n",
      "'../mtl_transform_dataset/Training\\18' already has 805 images, no augmentation needed.\n",
      "'../mtl_transform_dataset/Training\\2' already has 824 images, no augmentation needed.\n",
      "'../mtl_transform_dataset/Training\\3' has 423 images, need to generate 77 more.\n",
      "Total 77 augmented images generated for class '../mtl_transform_dataset/Training\\3'.\n",
      "'../mtl_transform_dataset/Training\\4' has 205 images, need to generate 295 more.\n",
      "Total 295 augmented images generated for class '../mtl_transform_dataset/Training\\4'.\n",
      "'../mtl_transform_dataset/Training\\5' already has 722 images, no augmentation needed.\n",
      "'../mtl_transform_dataset/Training\\6' has 413 images, need to generate 87 more.\n",
      "Total 87 augmented images generated for class '../mtl_transform_dataset/Training\\6'.\n"
     ]
    }
   ],
   "source": [
    "# 사용 예시\n",
    "training_dir = \"../mtl_transform_dataset/Training\"  # Training 데이터 디렉토리\n",
    "process_all_classes(training_dir, target_count=500)"
   ]
  }
 ],
 "metadata": {
  "kernelspec": {
   "display_name": "deep_platform",
   "language": "python",
   "name": "python3"
  },
  "language_info": {
   "codemirror_mode": {
    "name": "ipython",
    "version": 3
   },
   "file_extension": ".py",
   "mimetype": "text/x-python",
   "name": "python",
   "nbconvert_exporter": "python",
   "pygments_lexer": "ipython3",
   "version": "3.9.20"
  }
 },
 "nbformat": 4,
 "nbformat_minor": 2
}
