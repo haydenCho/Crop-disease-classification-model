{
 "cells": [
  {
   "cell_type": "markdown",
   "metadata": {},
   "source": [
    "## Multi Task Learning(MTL) 기본 모델"
   ]
  },
  {
   "cell_type": "code",
   "execution_count": null,
   "metadata": {},
   "outputs": [],
   "source": [
    "import torch\n",
    "import torch.nn as nn\n",
    "import torch.optim as optim\n",
    "import torchvision.transforms as transforms\n",
    "from torch.utils.data import DataLoader, Dataset\n",
    "from torchvision.models import resnet34, ResNet34_Weights\n",
    "from PIL import Image\n",
    "import os\n",
    "from sklearn.metrics import confusion_matrix\n",
    "import matplotlib.pyplot as plt\n",
    "import matplotlib.font_manager as fm\n",
    "import seaborn as sns"
   ]
  },
  {
   "cell_type": "code",
   "execution_count": null,
   "metadata": {},
   "outputs": [
    {
     "name": "stderr",
     "output_type": "stream",
     "text": [
      "c:\\Users\\ho_e_\\AppData\\Local\\Programs\\Python\\Python312\\Lib\\site-packages\\torch\\__init__.py:1144: UserWarning: torch.set_default_tensor_type() is deprecated as of PyTorch 2.1, please use torch.set_default_dtype() and torch.set_default_device() as alternatives. (Triggered internally at C:\\actions-runner\\_work\\pytorch\\pytorch\\builder\\windows\\pytorch\\torch\\csrc\\tensor\\python_tensor.cpp:434.)\n",
      "  _C._set_default_tensor_type(t)\n"
     ]
    }
   ],
   "source": [
    "# 하이퍼파라미터 설정\n",
    "num_epochs = 10\n",
    "batch_size = 64\n",
    "learning_rate = 0.001\n",
    "\n",
    "# GPU 설정\n",
    "os.environ[\"CUDA_DEVICE_ORDER\"] = \"PCI_BUS_ID\"\n",
    "os.environ[\"CUDA_VISIBLE_DEVICES\"] = \"0\"\n",
    "device = torch.device(\"cuda\" if torch.cuda.is_available() else \"cpu\")"
   ]
  },
  {
   "cell_type": "code",
   "execution_count": 4,
   "metadata": {},
   "outputs": [
    {
     "name": "stdout",
     "output_type": "stream",
     "text": [
      "Device: cuda\n",
      "Current cuda device: 0\n",
      "Count of using GPUs: 1\n"
     ]
    }
   ],
   "source": [
    "device = torch.device(\"cuda\" if torch.cuda.is_available() else \"cpu\")\n",
    "\n",
    "print('Device:', device)\n",
    "print('Current cuda device:', torch.cuda.current_device())\n",
    "print('Count of using GPUs:', torch.cuda.device_count())"
   ]
  },
  {
   "cell_type": "markdown",
   "metadata": {},
   "source": [
    "## 데이터셋 라벨링\n",
    "- CustomDataset 클래스에서 이미지 경로를 읽고, **파일명에 포함된 정보**를 바탕으로 라벨을 추출\n",
    "    - '_'를 기준으로 다섯 번째 값은 질병 정보\n",
    "    - '_'를 기준으로 여섯 번째 값은 작물 정보\n",
    "- 작물 번호와 질병 번호를 **라벨 매핑**을 통해 각각 0부터 시작하는 인덱스로 변환\n",
    "    - 원본 데이터셋의 일부 데이터만 사용하기 때문에 라벨값이 개수 범위를 벗어남 → 매핑 진행"
   ]
  },
  {
   "cell_type": "code",
   "execution_count": null,
   "metadata": {},
   "outputs": [],
   "source": [
    "# 데이터셋 클래스\n",
    "class CustomDataset(Dataset):\n",
    "    def __init__(self, root_dir, label_map, transform=None):\n",
    "        self.root_dir = root_dir\n",
    "        self.label_map = label_map  # 라벨 맵을 인자로 받음\n",
    "        self.image_paths = [os.path.join(root_dir, f) for f in os.listdir(root_dir) if f.lower().endswith(('.jpg', '.png', '.jpeg'))]\n",
    "        self.transform = transform if transform is not None else transforms.Compose([\n",
    "            transforms.Resize((224, 224)),\n",
    "            transforms.ToTensor(),\n",
    "            transforms.Normalize(mean=[0.485, 0.456, 0.406], std=[0.229, 0.224, 0.225])\n",
    "        ])\n",
    "\n",
    "    def __len__(self):\n",
    "        return len(self.image_paths)\n",
    "\n",
    "    def __getitem__(self, index):\n",
    "        path = self.image_paths[index]\n",
    "        filename = os.path.basename(path).split('_')\n",
    "\n",
    "        # 라벨 추출\n",
    "        disease_label = int(filename[4])  # 다섯 번째 항목이 질병 번호\n",
    "        crop_label = int(filename[5])     # 여섯 번째 항목이 작물 번호\n",
    "\n",
    "        # 라벨을 맵핑하여 처리\n",
    "        crop_label = torch.tensor(self.label_map['crop'][crop_label], dtype=torch.long)  \n",
    "        disease_label = torch.tensor(self.label_map['disease'][disease_label], dtype=torch.long)\n",
    "\n",
    "        # 이미지 로드 및 변환\n",
    "        image = Image.open(path).convert('RGB')\n",
    "        image = self.transform(image)\n",
    "\n",
    "        return image, crop_label, disease_label"
   ]
  },
  {
   "cell_type": "code",
   "execution_count": null,
   "metadata": {},
   "outputs": [],
   "source": [
    "# 라벨 맵 정의\n",
    "label_map = {\n",
    "    'crop': {1: 0, 2: 1, 3: 2, 6: 3, 9: 4},  # 숫자와 인덱스를 매핑\n",
    "    'disease': {0: 0, 1: 1, 2: 2, 3: 3, 4: 4, 5: 5, 6: 6, 11: 7, 12: 8, 16: 9, 17: 10, 18: 11}\n",
    "}\n",
    "\n",
    "# 데이터셋 준비\n",
    "train_dataset = CustomDataset(root_dir='./mtl_dataset/Training', label_map=label_map)\n",
    "val_dataset = CustomDataset(root_dir='./mtl_dataset/Validation', label_map=label_map)\n",
    "test_dataset = CustomDataset(root_dir='./mtl_dataset/Test', label_map=label_map)"
   ]
  },
  {
   "cell_type": "code",
   "execution_count": null,
   "metadata": {},
   "outputs": [],
   "source": [
    "# 데이터 로더 설정\n",
    "train_loader = DataLoader(train_dataset, batch_size=batch_size, shuffle=True, num_workers=4, pin_memory=True)\n",
    "val_loader = DataLoader(val_dataset, batch_size=batch_size, shuffle=False, num_workers=4, pin_memory=True)\n",
    "test_loader = DataLoader(test_dataset, batch_size=batch_size, shuffle=False, num_workers=4, pin_memory=True)"
   ]
  },
  {
   "cell_type": "code",
   "execution_count": null,
   "metadata": {},
   "outputs": [],
   "source": [
    "# 모델 정의\n",
    "class MultiTaskModel(nn.Module):\n",
    "    def __init__(self, backbone, num_crops, num_diseases):\n",
    "        super(MultiTaskModel, self).__init__()\n",
    "        self.backbone = backbone  # ResNet-34 backbone\n",
    "        self.n_features = self.backbone.fc.in_features\n",
    "        self.backbone.fc = nn.Identity()  # 마지막 fully connected layer(분류기) 제거\n",
    "        \n",
    "        # 태스크 특화 분류기\n",
    "        self.crop_head = nn.Linear(self.n_features, num_crops)          # 작물 클래스\n",
    "        self.disease_head = nn.Linear(self.n_features, num_diseases)    # 질병 클래스\n",
    "    \n",
    "    def forward(self, x):\n",
    "        features = self.backbone(x)  # 공유 backbone\n",
    "        crop_output = self.crop_head(features)  # 작물 분류 출력값\n",
    "        disease_output = self.disease_head(features)  # 질병 분류 출력값\n",
    "        return crop_output, disease_output"
   ]
  },
  {
   "cell_type": "markdown",
   "metadata": {},
   "source": [
    "### 모델 생성\n",
    "1. 공유 백본\n",
    "    - `resnet34(weights=ResNet34_Weights.DEFAULT)`\n",
    "    - 사전학습된 ResNet-34 모델 사용\n",
    "2. 모델 생성\n",
    "    - `MultiTaskModel(backbone, num_crops, num_diseases).to(device)`\n",
    "    - 분류할 클래스 수와 공유 백본을 인수로 모델 생성"
   ]
  },
  {
   "cell_type": "code",
   "execution_count": null,
   "metadata": {},
   "outputs": [],
   "source": [
    "# 모델 생성\n",
    "num_crops = 5  # 작물 클래스 수\n",
    "num_diseases = 12  # 질병 클래스 수\n",
    "backbone = resnet34(weights=ResNet34_Weights.DEFAULT)  # 사전학습된 ResNet-34\n",
    "model = MultiTaskModel(backbone, num_crops, num_diseases).to(device)"
   ]
  },
  {
   "cell_type": "markdown",
   "metadata": {},
   "source": [
    "## 모델 평가"
   ]
  },
  {
   "cell_type": "code",
   "execution_count": null,
   "metadata": {},
   "outputs": [],
   "source": [
    "# 모델 평가\n",
    "model.load_state_dict(torch.load('best_mtl_model.pth', weights_only=True))\n",
    "model.eval()\n",
    "\n",
    "correct_crop = 0\n",
    "correct_disease = 0\n",
    "total = 0\n",
    "\n",
    "pred_crop_labels = []\n",
    "pred_disease_labels = []\n",
    "true_crop_labels = []\n",
    "true_disease_labels = []\n",
    "\n",
    "with torch.no_grad():\n",
    "    for images, crop_labels, disease_labels in test_loader:\n",
    "        images = images.to(device, non_blocking=True)\n",
    "        crop_labels = crop_labels.to(device, non_blocking=True)\n",
    "        disease_labels = disease_labels.to(device, non_blocking=True)\n",
    "\n",
    "        crop_outputs, disease_outputs = model(images)\n",
    "        _, crop_predicted = torch.max(crop_outputs, 1)\n",
    "        _, disease_predicted = torch.max(disease_outputs, 1)\n",
    "\n",
    "        total += crop_labels.size(0)\n",
    "        correct_crop += (crop_predicted == crop_labels).sum().item()\n",
    "        correct_disease += (disease_predicted == disease_labels).sum().item()\n",
    "\n",
    "        pred_crop_labels.extend(crop_predicted.cpu().numpy())\n",
    "        pred_disease_labels.extend(disease_predicted.cpu().numpy())\n",
    "        true_crop_labels.extend(crop_labels.cpu().numpy())\n",
    "        true_disease_labels.extend(disease_labels.cpu().numpy())\n",
    "\n",
    "test_crop_acc = 100 * correct_crop / total\n",
    "test_disease_acc = 100 * correct_disease / total\n",
    "\n",
    "print(f\"Test Crop Accuracy: {test_crop_acc:.2f}%\")\n",
    "print(f\"Test Disease Accuracy: {test_disease_acc:.2f}%\")"
   ]
  },
  {
   "cell_type": "code",
   "execution_count": null,
   "metadata": {},
   "outputs": [],
   "source": [
    "# 혼동 행렬 시각화 함수\n",
    "def plot_confusion_matrix(true_labels, pred_labels, classes, title, save_path=None):\n",
    "    cm = confusion_matrix(true_labels, pred_labels)\n",
    "    plt.figure(figsize=(8, 6))\n",
    "\n",
    "    # 한글 폰트 설정\n",
    "    plt.rcParams['font.family'] = 'Malgun Gothic'  # 맑은고딕\n",
    "    plt.rcParams['axes.unicode_minus'] = False   # 마이너스 기호 깨짐 방지\n",
    "\n",
    "    sns.heatmap(cm, annot=True, fmt=\"d\", cmap=\"Blues\", xticklabels=classes, yticklabels=classes)\n",
    "    plt.title(title)\n",
    "    plt.xlabel(\"Predicted\")\n",
    "    plt.ylabel(\"True\")\n",
    "    plt.show()"
   ]
  },
  {
   "cell_type": "code",
   "execution_count": null,
   "metadata": {},
   "outputs": [],
   "source": [
    "# 혼동 행렬 시각화\n",
    "plot_confusion_matrix(\n",
    "    true_crop_labels, \n",
    "    pred_crop_labels, \n",
    "    classes=['고추', '무', '배추', '오이', '파'], \n",
    "    title=\"Crop Classification Confusion Matrix\"\n",
    ")\n",
    "\n",
    "plot_confusion_matrix(\n",
    "    true_disease_labels, \n",
    "    pred_disease_labels, \n",
    "    classes=['정상', '고추탄저병', '고추흰가루병', '무검은무늬병', '무노균병', '배추검음썩음병', '배추노균병', '오이노균병', '오이흰가루병', '파검은무늬병', '파노균병', '파녹병'], \n",
    "    title=\"Disease Classification Confusion Matrix\"\n",
    ")"
   ]
  }
 ],
 "metadata": {
  "kernelspec": {
   "display_name": "Python 3",
   "language": "python",
   "name": "python3"
  },
  "language_info": {
   "codemirror_mode": {
    "name": "ipython",
    "version": 3
   },
   "file_extension": ".py",
   "mimetype": "text/x-python",
   "name": "python",
   "nbconvert_exporter": "python",
   "pygments_lexer": "ipython3",
   "version": "3.12.6"
  }
 },
 "nbformat": 4,
 "nbformat_minor": 2
}
