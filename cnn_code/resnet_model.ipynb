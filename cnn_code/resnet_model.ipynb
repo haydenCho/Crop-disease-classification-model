{
 "cells": [
  {
   "cell_type": "markdown",
   "metadata": {},
   "source": [
    "## 데이터셋 전처리\n",
    "- 전처리 과정 자체는 동일하지만 라이브러리에서 가져와 사용하는 MNIST 데이터셋과 달리 직접 폴더에 접근하여 사용"
   ]
  },
  {
   "cell_type": "code",
   "execution_count": 104,
   "metadata": {},
   "outputs": [],
   "source": [
    "import torch\n",
    "import torch.nn as nn\n",
    "import torch.optim as optim\n",
    "import torchvision\n",
    "import torchvision.transforms as transforms\n",
    "from torch.utils.data import DataLoader, random_split, Subset\n",
    "from torch.utils.tensorboard import SummaryWriter\n",
    "from torchvision.datasets import ImageFolder\n",
    "import matplotlib.pyplot as plt\n",
    "from sklearn.metrics import confusion_matrix\n",
    "import seaborn as sns\n",
    "import numpy as np\n",
    "from collections import Counter"
   ]
  },
  {
   "cell_type": "code",
   "execution_count": 105,
   "metadata": {},
   "outputs": [],
   "source": [
    "# 하이퍼파라미터 설정\n",
    "num_epochs = 10\n",
    "batch_size = 32\n",
    "learning_rate = 0.001\n",
    "\n",
    "device = torch.device('cuda' if torch.cuda.is_available() else 'cpu')"
   ]
  },
  {
   "cell_type": "markdown",
   "metadata": {},
   "source": [
    "### 전처리 과정\n",
    "\n",
    "1. **데이터 전처리**\n",
    "    - `torchvision.transforms` 모듈을 활용하여 학습 및 테스트 데이터를 각각 전처리\n",
    "        - **Resize**: 이미지를 `(224, 224)`로 크기 조정\n",
    "        - **ToTensor**: 이미지를 텐서 형식으로 변환\n",
    "        - **Normalize**: 각 채널의 평균과 표준편차를 사용하여 정규화 진행 (`mean=[0.485, 0.456, 0.406]`, `std=[0.229, 0.224, 0.225]`)\n",
    "\n",
    "2. **DataLoader 설정**\n",
    "    - `DataLoader`를 사용하여 학습, 검증, 테스트 데이터를 배치 크기에 맞게 불러오기\n",
    "        - `dataset`: 각 데이터셋의 경로를 지정하여 어떤 데이터를 사용할 것인지 결정\n",
    "        - `batch_size`: 미니 배치 크기를 설정하여 학습 속도를 조절\n",
    "        - `shuffle`: 학습 데이터는 랜덤으로 섞어서 일반화 성능을 높이며, 검증 및 테스트 데이터는 섞지 않고 그대로 사용"
   ]
  },
  {
   "cell_type": "code",
   "execution_count": 106,
   "metadata": {},
   "outputs": [],
   "source": [
    "# 데이터셋 전처리\n",
    "transform = transforms.Compose([\n",
    "    transforms.Resize((224, 224)),\n",
    "    transforms.ToTensor(),\n",
    "    transforms.Normalize(mean=[0.485, 0.456, 0.406], std=[0.229, 0.224, 0.225])\n",
    "])"
   ]
  },
  {
   "cell_type": "code",
   "execution_count": null,
   "metadata": {},
   "outputs": [],
   "source": [
    "# 데이터셋 로드\n",
    "train_dataset = ImageFolder(root='./cnn_dataset/Training', transform=transform)\n",
    "test_dataset = ImageFolder(root='./cnn_dataset/Test', transform=transform)\n",
    "val_dataset = ImageFolder(root='./cnn_dataset/Validation', transform=transform)"
   ]
  },
  {
   "cell_type": "code",
   "execution_count": 109,
   "metadata": {},
   "outputs": [],
   "source": [
    "# 데이터 로더 설정\n",
    "train_loader = DataLoader(train_dataset, batch_size=batch_size, shuffle=True, num_workers=4, pin_memory=True)\n",
    "val_loader = DataLoader(val_dataset, batch_size=batch_size, shuffle=False, num_workers=4, pin_memory=True)\n",
    "test_loader = DataLoader(test_dataset, batch_size=batch_size, shuffle=False, num_workers=4, pin_memory=True)"
   ]
  },
  {
   "cell_type": "markdown",
   "metadata": {},
   "source": [
    "## 🔥 모델 구축 - ResNet-18(BottleneckBlock)\n",
    "\n",
    "1. **초기 합성곱 계층**\n",
    "    - **7x7 커널, 스트라이드 2, 패딩 3** 설정으로 초기 합성곱 계층을 구성하여 입력 이미지의 특징을 추출\n",
    "    - 입력 채널은 3(RGB 이미지), 출력 채널은 64로 설정하여 다양한 특징을 추출\n",
    "    - 배치 정규화(`BatchNorm2d`)와 ReLU 활성화 함수 적용\n",
    "    - `MaxPooling`(커널 크기 3, 스트라이드 2, 패딩 1)을 통해 특징 맵 크기를 절반으로 줄임\n",
    "\n",
    "2. **병목 블록(BottleneckBlock)을 통한 잔차 학습 계층 구성**\n",
    "    - `BottleneckBlock` 클래스를 사용하여 높은 차원의 입력을 더 작은 차원으로 축소한 뒤 복원하는 방식으로 잔차 학습을 수행\n",
    "    - 각 BottleneckBlock은 세 개의 합성곱 계층과 배치 정규화를 포함하며, `ReLU` 활성화 함수를 사용해 비선형성을 부여함\n",
    "    - 스킵 연결(skip connection) 사용: 입력과 출력이 차원 일치하지 않을 경우, 1x1 합성곱을 통해 차원을 맞춘 뒤 더해줌\n",
    "        - 첫 번째 합성곱 계층(`conv1`): **1x1 커널**로 차원을 축소하여 연산 비용을 줄임\n",
    "        - 두 번째 합성곱 계층(`conv2`): **3x3 커널**로 공간적 특징을 추출하고, 설정된 스트라이드로 다운샘플링 가능\n",
    "        - 세 번째 합성곱 계층(`conv3`): **1x1 커널**로 차원을 원래대로 복원\n",
    "    - 레이어 별 특징:\n",
    "        - **Layer1**: 64 채널, BottleneckBlock 2개 사용\n",
    "        - **Layer2**: 128 채널, BottleneckBlock 2개 사용, 스트라이드 2로 설정하여 다운샘플링\n",
    "        - **Layer3**: 256 채널, BottleneckBlock 2개 사용, 스트라이드 2로 설정하여 다운샘플링\n",
    "        - **Layer4**: 512 채널, BottleneckBlock 2개 사용, 스트라이드 2로 설정하여 다운샘플링\n",
    "\n",
    "3. **잔차 학습과 스킵 연결**\n",
    "    - 각 `BottleneckBlock`에서 입력을 그대로 다음 계층에 전달하는 스킵 연결을 적용해 정보 손실을 줄이고, 깊은 네트워크에서도 효과적으로 학습 가능\n",
    "    - 스킵 연결의 차원 불일치가 발생하는 경우 1x1 합성곱을 통해 맞춰줌으로써 모델 안정성 유지\n",
    "\n",
    "4. **평균 풀링 및 완전 연결 계층**\n",
    "    - 마지막 특징 맵을 `AdaptiveAvgPool2d`로 입력의 크기와 상관없이 1x1로 축소\n",
    "    - 특징을 `Linear` 완전 연결 계층에 전달해 최종 출력 크기 `num_classes=2`로 이진 분류 수행\n",
    "\n",
    "5. **활성화 함수와 출력**\n",
    "    - 각 합성곱 계층 뒤에 `ReLU` 활성화 함수 적용해 비선형성 추가\n",
    "    - 최종 완전 연결 계층의 출력을 통해 각 클래스에 대한 예측 확률 산출"
   ]
  },
  {
   "cell_type": "code",
   "execution_count": 110,
   "metadata": {},
   "outputs": [],
   "source": [
    "class BottleneckBlock(nn.Module):\n",
    "    def __init__(self, in_channels, out_channels, stride=1, expansion=4):\n",
    "        super(BottleneckBlock, self).__init__()\n",
    "        bottleneck_channels = out_channels // expansion\n",
    "        \n",
    "        # 1x1 합성곱 계층\n",
    "        self.conv1 = nn.Conv2d(in_channels, bottleneck_channels, kernel_size=1, bias=False)\n",
    "        self.bn1 = nn.BatchNorm2d(bottleneck_channels)\n",
    "        \n",
    "        # 3x3 합성곱 계층\n",
    "        self.conv2 = nn.Conv2d(bottleneck_channels, bottleneck_channels, kernel_size=3, stride=stride, padding=1, bias=False)\n",
    "        self.bn2 = nn.BatchNorm2d(bottleneck_channels)\n",
    "        \n",
    "        # 1x1 합성곱 계층\n",
    "        self.conv3 = nn.Conv2d(bottleneck_channels, out_channels, kernel_size=1, bias=False)\n",
    "        self.bn3 = nn.BatchNorm2d(out_channels)\n",
    "        \n",
    "        # 스킵 연결을 위한 차원 조정\n",
    "        self.shortcut = nn.Sequential()\n",
    "        if stride != 1 or in_channels != out_channels:\n",
    "            self.shortcut = nn.Sequential(\n",
    "                nn.Conv2d(in_channels, out_channels, kernel_size=1, stride=stride, bias=False),\n",
    "                nn.BatchNorm2d(out_channels)\n",
    "            )\n",
    "        \n",
    "        self.relu = nn.ReLU(inplace=True)\n",
    "\n",
    "    def forward(self, x):\n",
    "        out = self.conv1(x)\n",
    "        out = self.bn1(out)\n",
    "        out = self.relu(out)\n",
    "        \n",
    "        out = self.conv2(out)\n",
    "        out = self.bn2(out)\n",
    "        out = self.relu(out)\n",
    "        \n",
    "        out = self.conv3(out)\n",
    "        out = self.bn3(out)\n",
    "        \n",
    "        out += self.shortcut(x)\n",
    "        out = self.relu(out)\n",
    "        \n",
    "        return out"
   ]
  },
  {
   "cell_type": "code",
   "execution_count": 111,
   "metadata": {},
   "outputs": [],
   "source": [
    "class ResNet(nn.Module):\n",
    "    def __init__(self, block, num_blocks, num_classes=2):\n",
    "        super(ResNet, self).__init__()\n",
    "        self.in_channels = 64\n",
    "        \n",
    "        self.conv1 = nn.Conv2d(3, 64, kernel_size=7, stride=2, padding=3, bias=False)\n",
    "        self.bn1 = nn.BatchNorm2d(64)\n",
    "        self.relu = nn.ReLU(inplace=True)\n",
    "        self.maxpool = nn.MaxPool2d(kernel_size=3, stride=2, padding=1)\n",
    "        \n",
    "        self.layer1 = self._make_layer(block, 64, num_blocks[0])\n",
    "        self.layer2 = self._make_layer(block, 128, num_blocks[1], stride=2)\n",
    "        self.layer3 = self._make_layer(block, 256, num_blocks[2], stride=2)\n",
    "        self.layer4 = self._make_layer(block, 512, num_blocks[3], stride=2)\n",
    "        \n",
    "        self.avgpool = nn.AdaptiveAvgPool2d((1, 1))\n",
    "        self.fc = nn.Linear(512, num_classes)\n",
    "\n",
    "    def _make_layer(self, block, out_channels, blocks, stride=1):\n",
    "        layers = []\n",
    "        layers.append(block(self.in_channels, out_channels, stride))\n",
    "        self.in_channels = out_channels\n",
    "        for _ in range(1, blocks):\n",
    "            layers.append(block(out_channels, out_channels))\n",
    "        return nn.Sequential(*layers)\n",
    "    \n",
    "    def forward(self, x):\n",
    "        x = self.conv1(x)\n",
    "        x = self.bn1(x)\n",
    "        x = self.relu(x)\n",
    "        x = self.maxpool(x)\n",
    "        \n",
    "        x = self.layer1(x)\n",
    "        x = self.layer2(x)\n",
    "        x = self.layer3(x)\n",
    "        x = self.layer4(x)\n",
    "        \n",
    "        x = self.avgpool(x)\n",
    "        x = x.view(x.size(0), -1)\n",
    "        x = self.fc(x)\n",
    "        return x"
   ]
  },
  {
   "cell_type": "markdown",
   "metadata": {},
   "source": [
    "### 모델 생성\n",
    "`ResNet(BottleneckBlock, [2, 2, 2, 2], num_classes)`\n",
    "- 블록의 종류: BottleneckBlock\n",
    "- 레이어 별 블록 개수: 각 레이어마다 두 개의 블록 사용\n",
    "- 분류할 클래스 수: 2 (x-ray 데이터셋은 이진 분류)"
   ]
  },
  {
   "cell_type": "code",
   "execution_count": 112,
   "metadata": {},
   "outputs": [],
   "source": [
    "# ResNet-18 모델 생성\n",
    "def ResNet18(num_classes=12):\n",
    "    return ResNet(BottleneckBlock, [2, 2, 2, 2], num_classes)\n",
    "\n",
    "# 모델 인스턴스화\n",
    "model = ResNet18().to(device)"
   ]
  },
  {
   "cell_type": "markdown",
   "metadata": {},
   "source": [
    "### 손실 함수와 옵티마이저\n",
    "\n",
    "- **손실 함수**: 클래스 불균형을 고려하여 가중치가 적용된 `CrossEntropyLoss`를 사용\n",
    "    - 클래스별 샘플 개수에 기반한 가중치 설정으로, `1 / 클래스 샘플 개수` 방식으로 클래스 가중치를 계산하여 모델이 적은 데이터 비율을 가진 클래스도 학습하도록 유도\n",
    "    - Pytorch의 `CrossEntropyLoss`는 Softmax를 포함하여 다중 클래스 분류 문제에 적합\n",
    "\n",
    "- **옵티마이저**: `Adam` 옵티마이저 사용\n",
    "    - 학습 속도 향상 및 안정적인 수렴을 위해 Adam을 적용"
   ]
  },
  {
   "cell_type": "code",
   "execution_count": null,
   "metadata": {},
   "outputs": [
    {
     "name": "stdout",
     "output_type": "stream",
     "text": [
      "tensor([0.0007, 0.0008, 0.0008, 0.0008, 0.0008, 0.0008, 0.0008, 0.0008, 0.0008,\n",
      "        0.0008, 0.0008, 0.0008], device='cuda:0')\n"
     ]
    }
   ],
   "source": [
    "# 클래스별 샘플 개수 계산\n",
    "class_counts = Counter([label for _, label in train_dataset.samples])\n",
    "class_weights = torch.tensor([1.0 / class_counts[i] for i in range(len(train_dataset.classes))], dtype=torch.float)\n",
    "\n",
    "class_weights = class_weights.to(device)\n",
    "\n",
    "# 가중치 적용된 손실 함수 정의\n",
    "criterion = nn.CrossEntropyLoss(weight=class_weights)\n",
    "\n",
    "# 옵티마이저 정의\n",
    "optimizer = optim.Adam(model.parameters(), lr=learning_rate)\n",
    "\n",
    "print(class_weights)"
   ]
  },
  {
   "cell_type": "code",
   "execution_count": null,
   "metadata": {},
   "outputs": [],
   "source": [
    "# TensorBoard 설정\n",
    "##❗학습마다 다르게 설정해야 함\n",
    "writer = SummaryWriter('./runs/basic_resnet_2/')"
   ]
  },
  {
   "cell_type": "markdown",
   "metadata": {},
   "source": [
    "## 모델 학습\n",
    "- 불러온 모델을 학습하고 손실함수와 학습 정확도, 검증 정확도를 측정한다."
   ]
  },
  {
   "cell_type": "code",
   "execution_count": 115,
   "metadata": {},
   "outputs": [
    {
     "name": "stdout",
     "output_type": "stream",
     "text": [
      "Epoch [1/10], Train Loss: 1.2478, Train Acc: 55.37%, Val Acc: 60.43%\n",
      "Epoch [2/10], Train Loss: 0.8015, Train Acc: 71.23%, Val Acc: 68.54%\n",
      "Epoch [3/10], Train Loss: 0.6206, Train Acc: 76.89%, Val Acc: 76.00%\n",
      "Epoch [4/10], Train Loss: 0.5079, Train Acc: 81.61%, Val Acc: 78.92%\n",
      "Epoch [5/10], Train Loss: 0.4292, Train Acc: 84.43%, Val Acc: 77.30%\n",
      "Epoch [6/10], Train Loss: 0.3688, Train Acc: 86.42%, Val Acc: 81.62%\n",
      "Epoch [7/10], Train Loss: 0.3230, Train Acc: 88.31%, Val Acc: 78.81%\n",
      "Epoch [8/10], Train Loss: 0.2806, Train Acc: 89.82%, Val Acc: 77.51%\n",
      "Epoch [9/10], Train Loss: 0.2534, Train Acc: 90.93%, Val Acc: 82.92%\n",
      "Epoch [10/10], Train Loss: 0.2206, Train Acc: 92.25%, Val Acc: 82.70%\n"
     ]
    }
   ],
   "source": [
    "# 학습 루프\n",
    "best_val_acc = 0\n",
    "best_model = None\n",
    "\n",
    "for epoch in range(num_epochs):\n",
    "    model.train()\n",
    "    running_loss = 0.0\n",
    "    correct = 0\n",
    "    total = 0\n",
    "\n",
    "    for i, (images, labels) in enumerate(train_loader):\n",
    "        images, labels = images.to(device), labels.to(device)\n",
    "\n",
    "        optimizer.zero_grad()\n",
    "        outputs = model(images)\n",
    "        loss = criterion(outputs, labels)\n",
    "        loss.backward()\n",
    "        optimizer.step()\n",
    "\n",
    "        running_loss += loss.item()\n",
    "        _, predicted = torch.max(outputs.data, 1)\n",
    "        total += labels.size(0)\n",
    "        correct += (predicted == labels).sum().item()\n",
    "\n",
    "    train_acc = 100 * correct / total\n",
    "\n",
    "    # 검증\n",
    "    model.eval()\n",
    "    val_loss = 0.0\n",
    "    correct = 0\n",
    "    total = 0\n",
    "\n",
    "    with torch.no_grad():\n",
    "        for images, labels in val_loader:\n",
    "            images, labels = images.to(device), labels.to(device)\n",
    "            outputs = model(images)\n",
    "            loss = criterion(outputs, labels)\n",
    "            val_loss += loss.item()\n",
    "            _, predicted = torch.max(outputs.data, 1)\n",
    "            total += labels.size(0)\n",
    "            correct += (predicted == labels).sum().item()\n",
    "\n",
    "    val_acc = 100 * correct / total\n",
    "\n",
    "    # TensorBoard에 로그 기록\n",
    "    writer.add_scalar('Loss/train', running_loss / len(train_loader), epoch)\n",
    "    writer.add_scalar('Accuracy/train', train_acc, epoch)\n",
    "    writer.add_scalar('Loss/validation', val_loss / len(val_loader), epoch)\n",
    "    writer.add_scalar('Accuracy/validation', val_acc, epoch)\n",
    "\n",
    "    print(f'Epoch [{epoch+1}/{num_epochs}], Train Loss: {running_loss/len(train_loader):.4f}, '\n",
    "          f'Train Acc: {train_acc:.2f}%, Val Acc: {val_acc:.2f}%')\n",
    "\n",
    "    # 최고 성능 모델 저장\n",
    "    if val_acc > best_val_acc:\n",
    "        best_val_acc = val_acc\n",
    "        best_model = model.state_dict()\n",
    "    \n",
    "# 최고 성능 모델 저장\n",
    "torch.save(best_model, 'best_resnet_model.pth')\n",
    "writer.close()"
   ]
  },
  {
   "cell_type": "code",
   "execution_count": 116,
   "metadata": {},
   "outputs": [
    {
     "name": "stderr",
     "output_type": "stream",
     "text": [
      "C:\\Users\\ho_e_\\AppData\\Local\\Temp\\ipykernel_11612\\153978987.py:2: FutureWarning: You are using `torch.load` with `weights_only=False` (the current default value), which uses the default pickle module implicitly. It is possible to construct malicious pickle data which will execute arbitrary code during unpickling (See https://github.com/pytorch/pytorch/blob/main/SECURITY.md#untrusted-models for more details). In a future release, the default value for `weights_only` will be flipped to `True`. This limits the functions that could be executed during unpickling. Arbitrary objects will no longer be allowed to be loaded via this mode unless they are explicitly allowlisted by the user via `torch.serialization.add_safe_globals`. We recommend you start setting `weights_only=True` for any use case where you don't have full control of the loaded file. Please open an issue on GitHub for any issues related to this experimental feature.\n",
      "  model.load_state_dict(torch.load('best_resnet_model.pth'))\n"
     ]
    },
    {
     "name": "stdout",
     "output_type": "stream",
     "text": [
      "Test Accuracy: 83.88%\n"
     ]
    }
   ],
   "source": [
    "# 테스트 셋으로 평가\n",
    "model.load_state_dict(torch.load('best_resnet_model.pth'))\n",
    "model.eval()\n",
    "\n",
    "correct = 0\n",
    "total = 0\n",
    "all_preds = []\n",
    "all_labels = []\n",
    "\n",
    "with torch.no_grad():\n",
    "    for images, labels in test_loader:\n",
    "        images, labels = images.to(device), labels.to(device)\n",
    "        outputs = model(images)\n",
    "        _, predicted = torch.max(outputs.data, 1)\n",
    "        total += labels.size(0)\n",
    "        correct += (predicted == labels).sum().item()\n",
    "        all_preds.extend(predicted.cpu().numpy())\n",
    "        all_labels.extend(labels.cpu().numpy())\n",
    "\n",
    "test_acc = 100 * correct / total\n",
    "print(f'Test Accuracy: {test_acc:.2f}%')"
   ]
  },
  {
   "cell_type": "code",
   "execution_count": 117,
   "metadata": {},
   "outputs": [
    {
     "data": {
      "image/png": "[encoded data removed]",
      "text/plain": [
       "<Figure size 1000x700 with 2 Axes>"
      ]
     },
     "metadata": {},
     "output_type": "display_data"
    }
   ],
   "source": [
    "# 혼동 행렬 시각화\n",
    "cm = confusion_matrix(all_labels, all_preds)\n",
    "plt.figure(figsize=(10,7))\n",
    "sns.heatmap(cm, annot=True, fmt='d')\n",
    "plt.xlabel('Predicted')\n",
    "plt.ylabel('True')\n",
    "plt.title('Confusion Matrix')\n",
    "plt.show()"
   ]
  },
  {
   "cell_type": "code",
   "execution_count": 7,
   "metadata": {},
   "outputs": [
    {
     "name": "stdout",
     "output_type": "stream",
     "text": [
      "The tensorboard extension is already loaded. To reload it, use:\n",
      "  %reload_ext tensorboard\n"
     ]
    },
    {
     "data": {
      "text/plain": [
       "Reusing TensorBoard on port 6021 (pid 26732), started 0:00:12 ago. (Use '!kill 26732' to kill it.)"
      ]
     },
     "metadata": {},
     "output_type": "display_data"
    },
    {
     "data": {
      "text/html": [
       "\n",
       "      <iframe id=\"tensorboard-frame-9fa8504ba4916e00\" width=\"100%\" height=\"800\" frameborder=\"0\">\n",
       "      </iframe>\n",
       "      <script>\n",
       "        (function() {\n",
       "          const frame = document.getElementById(\"tensorboard-frame-9fa8504ba4916e00\");\n",
       "          const url = new URL(\"http://localhost\");\n",
       "          const port = 6021;\n",
       "          if (port) {\n",
       "            url.port = port;\n",
       "          }\n",
       "          frame.src = url;\n",
       "        })();\n",
       "      </script>\n",
       "    "
      ],
      "text/plain": [
       "<IPython.core.display.HTML object>"
      ]
     },
     "metadata": {},
     "output_type": "display_data"
    }
   ],
   "source": [
    "# TensorBoard 실행 (주석 처리된 상태)\n",
    "%load_ext tensorboard\n",
    "%tensorboard --logdir './runs/' --port 6021"
   ]
  }
 ],
 "metadata": {
  "kernelspec": {
   "display_name": "deep_platform",
   "language": "python",
   "name": "python3"
  },
  "language_info": {
   "codemirror_mode": {
    "name": "ipython",
    "version": 3
   },
   "file_extension": ".py",
   "mimetype": "text/x-python",
   "name": "python",
   "nbconvert_exporter": "python",
   "pygments_lexer": "ipython3",
   "version": "3.9.20"
  }
 },
 "nbformat": 4,
 "nbformat_minor": 2
}
